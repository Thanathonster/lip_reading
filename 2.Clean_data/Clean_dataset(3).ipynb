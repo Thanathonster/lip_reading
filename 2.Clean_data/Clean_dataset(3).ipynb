{
 "cells": [
  {
   "cell_type": "markdown",
   "metadata": {},
   "source": [
    "# Clean dataset\n",
    "1. Filter outlier\n",
    " * Get percentile between 25 - 75 %\n",
    " * plot boxplot \n",
    "2. Get number charector in filename upper 3\n",
    "3. Use only Thai filname   \n",
    "** FILENAME IS LABEL **"
   ]
  },
  {
   "cell_type": "code",
   "execution_count": 1,
   "metadata": {},
   "outputs": [],
   "source": [
    "import pandas as pd\n",
    "import numpy as np\n",
    "import cv2\n",
    "import glob\n",
    "import os\n",
    "import tqdm\n",
    "import matplotlib.pyplot as plt"
   ]
  },
  {
   "cell_type": "code",
   "execution_count": 3,
   "metadata": {},
   "outputs": [],
   "source": [
    "data = pd.read_csv(\"/Relation.csv\")"
   ]
  },
  {
   "cell_type": "code",
   "execution_count": 157,
   "metadata": {},
   "outputs": [],
   "source": [
    "num = 9\n",
    "floder = \"../data\"\n",
    "Collect = pd.read_csv(f\"{floder}/Collect_{num}/length.csv\")\n",
    "\n",
    "data = Collect_1[\"durations\"]\n",
    "\n",
    "# Calculate quartiles and IQR\n",
    "q1 = np.percentile(data, 25)\n",
    "q3 = np.percentile(data, 75)\n",
    "iqr = q3 - q1\n",
    "\n",
    "# Define the lower and upper bounds for outliers\n",
    "lower_bound = q1 - 1.5 * iqr\n",
    "upper_bound = q3 + 1.5 * iqr\n",
    "\n",
    "# Filter out outliers\n",
    "filtered_data = [x for x in data if x >= lower_bound and x <= upper_bound]\n",
    "\n",
    "dura_data = Collect[Collect[\"durations\"] <= upper_bound]"
   ]
  },
  {
   "cell_type": "code",
   "execution_count": 158,
   "metadata": {},
   "outputs": [
    {
     "data": {
      "text/plain": [
       "<Axes: >"
      ]
     },
     "execution_count": 158,
     "metadata": {},
     "output_type": "execute_result"
    },
    {
     "data": {
      "image/png": "[encoded data removed]",
      "text/plain": [
       "<Figure size 640x480 with 1 Axes>"
      ]
     },
     "metadata": {},
     "output_type": "display_data"
    }
   ],
   "source": [
    "plt.figure()\n",
    "dura_data.boxplot(column = [\"durations\"])"
   ]
  },
  {
   "cell_type": "code",
   "execution_count": 159,
   "metadata": {},
   "outputs": [],
   "source": [
    "clean = dura_data[(dura_data[\"durations\"] <= 200) & (dura_data[\"durations\"] > 75)]\n",
    "clean = clean[clean[\"video\"].apply(lambda x: len(x.split('-')[-1].split('.')[0])) > 3]\n",
    "clean = clean[clean[\"video\"].apply(lambda x: bool(re.match(r'^[\\u0E00-\\u0E7F\\s]+$', x.split('-')[-1].split('.')[0])))]"
   ]
  },
  {
   "cell_type": "code",
   "execution_count": 160,
   "metadata": {},
   "outputs": [],
   "source": [
    "clean.to_csv(f\"{floder}/Collect_{num}/Clean_length.csv\", index=False)"
   ]
  }
 ],
 "metadata": {
  "kernelspec": {
   "display_name": "facedetection",
   "language": "python",
   "name": "python3"
  },
  "language_info": {
   "codemirror_mode": {
    "name": "ipython",
    "version": 3
   },
   "file_extension": ".py",
   "mimetype": "text/x-python",
   "name": "python",
   "nbconvert_exporter": "python",
   "pygments_lexer": "ipython3",
   "version": "3.11.5"
  }
 },
 "nbformat": 4,
 "nbformat_minor": 2
}
