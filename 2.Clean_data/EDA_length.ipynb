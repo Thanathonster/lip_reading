{
 "cells": [
  {
   "cell_type": "code",
   "execution_count": 2,
   "metadata": {},
   "outputs": [],
   "source": [
    "import pandas as pd"
   ]
  },
  {
   "cell_type": "code",
   "execution_count": 8,
   "metadata": {},
   "outputs": [],
   "source": [
    "Collect = pd.DataFrame()\n",
    "for i in range(1,11):\n",
    "    length = pd.read_csv(f\"/Collect_{i}/Clean_length.csv\")\n",
    "    Collect = pd.concat([Collect, length], ignore_index=True)"
   ]
  },
  {
   "cell_type": "code",
   "execution_count": 9,
   "metadata": {},
   "outputs": [
    {
     "data": {
      "text/html": [
       "<div>\n",
       "<style scoped>\n",
       "    .dataframe tbody tr th:only-of-type {\n",
       "        vertical-align: middle;\n",
       "    }\n",
       "\n",
       "    .dataframe tbody tr th {\n",
       "        vertical-align: top;\n",
       "    }\n",
       "\n",
       "    .dataframe thead th {\n",
       "        text-align: right;\n",
       "    }\n",
       "</style>\n",
       "<table border=\"1\" class=\"dataframe\">\n",
       "  <thead>\n",
       "    <tr style=\"text-align: right;\">\n",
       "      <th></th>\n",
       "      <th>path</th>\n",
       "      <th>video</th>\n",
       "      <th>durations</th>\n",
       "    </tr>\n",
       "  </thead>\n",
       "  <tbody>\n",
       "    <tr>\n",
       "      <th>0</th>\n",
       "      <td>video-6266</td>\n",
       "      <td>0-ถ้าคิดว่าไหวก็เดินเข้ามา.mp4</td>\n",
       "      <td>86.0</td>\n",
       "    </tr>\n",
       "    <tr>\n",
       "      <th>1</th>\n",
       "      <td>video-6266</td>\n",
       "      <td>11-ไม่ใช่แม่พระ ที่จะยอมนะคะ.mp4</td>\n",
       "      <td>111.0</td>\n",
       "    </tr>\n",
       "    <tr>\n",
       "      <th>2</th>\n",
       "      <td>video-6266</td>\n",
       "      <td>13-หรือหิวมากมายกันล่ะ ช่วยไม่ได้สินะ.mp4</td>\n",
       "      <td>144.0</td>\n",
       "    </tr>\n",
       "    <tr>\n",
       "      <th>3</th>\n",
       "      <td>video-6266</td>\n",
       "      <td>15-คนนี้เป็นแฟนของฉัน.mp4</td>\n",
       "      <td>137.0</td>\n",
       "    </tr>\n",
       "    <tr>\n",
       "      <th>4</th>\n",
       "      <td>video-6266</td>\n",
       "      <td>17-ต้องให้คอยบอกไหม ว่าต้องไปทางไหน ทำตัวอย่าง...</td>\n",
       "      <td>106.0</td>\n",
       "    </tr>\n",
       "    <tr>\n",
       "      <th>...</th>\n",
       "      <td>...</td>\n",
       "      <td>...</td>\n",
       "      <td>...</td>\n",
       "    </tr>\n",
       "    <tr>\n",
       "      <th>1948525</th>\n",
       "      <td>video-80353</td>\n",
       "      <td>92-พี่ก็ซื้อเลย ดิ ทนได้หรือเปล่าอารมณ์ อะ ทนอ...</td>\n",
       "      <td>192.0</td>\n",
       "    </tr>\n",
       "    <tr>\n",
       "      <th>1948526</th>\n",
       "      <td>video-80353</td>\n",
       "      <td>93-สําหรับทองคําแท่งอันนี้ผมพูดเผื่อไว้ให้.mp4</td>\n",
       "      <td>152.0</td>\n",
       "    </tr>\n",
       "    <tr>\n",
       "      <th>1948527</th>\n",
       "      <td>video-80353</td>\n",
       "      <td>94-อีกแล้ว ยี่สิบกว่าคัดออกเลยแล้วกัน.mp4</td>\n",
       "      <td>130.0</td>\n",
       "    </tr>\n",
       "    <tr>\n",
       "      <th>1948528</th>\n",
       "      <td>video-80353</td>\n",
       "      <td>95-สามสิบหกจุดสองแปดแบบนี้ถือว่าบาทช่วยมากเช้า...</td>\n",
       "      <td>194.0</td>\n",
       "    </tr>\n",
       "    <tr>\n",
       "      <th>1948529</th>\n",
       "      <td>video-80353</td>\n",
       "      <td>98-ของตลาดมันน่าจะขึ้นมากกว่านะพี่ตรรกะง่ายนะค...</td>\n",
       "      <td>178.0</td>\n",
       "    </tr>\n",
       "  </tbody>\n",
       "</table>\n",
       "<p>1948530 rows × 3 columns</p>\n",
       "</div>"
      ],
      "text/plain": [
       "                path                                              video  \\\n",
       "0         video-6266                     0-ถ้าคิดว่าไหวก็เดินเข้ามา.mp4   \n",
       "1         video-6266                   11-ไม่ใช่แม่พระ ที่จะยอมนะคะ.mp4   \n",
       "2         video-6266          13-หรือหิวมากมายกันล่ะ ช่วยไม่ได้สินะ.mp4   \n",
       "3         video-6266                          15-คนนี้เป็นแฟนของฉัน.mp4   \n",
       "4         video-6266  17-ต้องให้คอยบอกไหม ว่าต้องไปทางไหน ทำตัวอย่าง...   \n",
       "...              ...                                                ...   \n",
       "1948525  video-80353  92-พี่ก็ซื้อเลย ดิ ทนได้หรือเปล่าอารมณ์ อะ ทนอ...   \n",
       "1948526  video-80353     93-สําหรับทองคําแท่งอันนี้ผมพูดเผื่อไว้ให้.mp4   \n",
       "1948527  video-80353          94-อีกแล้ว ยี่สิบกว่าคัดออกเลยแล้วกัน.mp4   \n",
       "1948528  video-80353  95-สามสิบหกจุดสองแปดแบบนี้ถือว่าบาทช่วยมากเช้า...   \n",
       "1948529  video-80353  98-ของตลาดมันน่าจะขึ้นมากกว่านะพี่ตรรกะง่ายนะค...   \n",
       "\n",
       "         durations  \n",
       "0             86.0  \n",
       "1            111.0  \n",
       "2            144.0  \n",
       "3            137.0  \n",
       "4            106.0  \n",
       "...            ...  \n",
       "1948525      192.0  \n",
       "1948526      152.0  \n",
       "1948527      130.0  \n",
       "1948528      194.0  \n",
       "1948529      178.0  \n",
       "\n",
       "[1948530 rows x 3 columns]"
      ]
     },
     "execution_count": 9,
     "metadata": {},
     "output_type": "execute_result"
    }
   ],
   "source": [
    "Collect"
   ]
  },
  {
   "cell_type": "code",
   "execution_count": 5,
   "metadata": {},
   "outputs": [],
   "source": [
    "data = Collect[Collect[\"durations\"]<1000]"
   ]
  },
  {
   "cell_type": "code",
   "execution_count": 10,
   "metadata": {},
   "outputs": [
    {
     "data": {
      "text/plain": [
       "Text(0.5, 1.0, 'Bar Plot of the duration of video')"
      ]
     },
     "execution_count": 10,
     "metadata": {},
     "output_type": "execute_result"
    },
    {
     "data": {
      "image/png": "[encoded data removed]",
      "text/plain": [
       "<Figure size 640x480 with 1 Axes>"
      ]
     },
     "metadata": {},
     "output_type": "display_data"
    }
   ],
   "source": [
    "import matplotlib.pyplot as plt\n",
    "Collect['durations'].plot.hist(bins=1000, edgecolor='black', alpha=0.7)\n",
    "\n",
    "plt.xlabel('durations time')\n",
    "plt.ylabel('Frequency of video')\n",
    "plt.title('Bar Plot of the duration of video')"
   ]
  }
 ],
 "metadata": {
  "kernelspec": {
   "display_name": "sernier",
   "language": "python",
   "name": "python3"
  },
  "language_info": {
   "codemirror_mode": {
    "name": "ipython",
    "version": 3
   },
   "file_extension": ".py",
   "mimetype": "text/x-python",
   "name": "python",
   "nbconvert_exporter": "python",
   "pygments_lexer": "ipython3",
   "version": "3.11.5"
  }
 },
 "nbformat": 4,
 "nbformat_minor": 2
}
