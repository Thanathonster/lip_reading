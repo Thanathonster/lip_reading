{
 "cells": [
  {
   "cell_type": "code",
   "execution_count": 1,
   "metadata": {},
   "outputs": [],
   "source": [
    "import json\n",
    "import tqdm\n",
    "import glob\n",
    "import os"
   ]
  },
  {
   "cell_type": "code",
   "execution_count": 2,
   "metadata": {},
   "outputs": [],
   "source": [
    "num=1\n",
    "with open(f\"Collect_{num}/face/video-6266/aliface/0-ถ้าคิดว่าไหวก็เดินเข้ามา.json\") as f:\n",
    "    data = json.load(f)"
   ]
  },
  {
   "cell_type": "code",
   "execution_count": 3,
   "metadata": {},
   "outputs": [
    {
     "name": "stderr",
     "output_type": "stream",
     "text": [
      "100%|██████████| 700/700 [36:25<00:00,  3.12s/it]  \n",
      "100%|██████████| 971/971 [55:06<00:00,  3.40s/it]  \n",
      "100%|██████████| 1190/1190 [1:04:56<00:00,  3.27s/it]\n",
      "100%|██████████| 822/822 [46:14<00:00,  3.38s/it]  \n",
      "100%|██████████| 932/932 [56:39<00:00,  3.65s/it]  \n",
      "100%|██████████| 1011/1011 [57:06<00:00,  3.39s/it] \n",
      "100%|██████████| 1157/1157 [1:00:16<00:00,  3.13s/it]\n",
      "100%|██████████| 1014/1014 [1:02:01<00:00,  3.67s/it]\n",
      "100%|██████████| 957/957 [56:31<00:00,  3.54s/it]  \n",
      "100%|██████████| 946/946 [55:23<00:00,  3.51s/it]  \n"
     ]
    }
   ],
   "source": [
    "peopledata = []\n",
    "\n",
    "peoples = []\n",
    "yalls = []\n",
    "patchs = []\n",
    "\n",
    "for num in range(1,11):\n",
    "    collect = f\"Collect_{num}/face\"\n",
    "    for v in tqdm.tqdm(glob.glob(f\"{collect}/*\")):\n",
    "        video = os.path.basename(v)\n",
    "        aliface = f\"{v}/aliface\"\n",
    "        for f in glob.glob(f\"{aliface}/*\"):\n",
    "            with open(f, \"r\", encoding='utf8') as outfile:\n",
    "                data = json.load(outfile)\n",
    "            \n",
    "            people = data[\"people\"]\n",
    "            yall = data[\"yall\"]\n",
    "            patch =data[\"patch\"]\n",
    "\n",
    "            peoples.extend(people)\n",
    "            yalls.extend(yall)\n",
    "            patchs.extend(patch)\n",
    "\n",
    "\n",
    "            if set(people) == {1}:\n",
    "                peopledata.append(1)\n",
    "            elif set(people) == {2}:\n",
    "                peopledata.append(2)\n",
    "            elif set(people) == {3}:\n",
    "                peopledata.append(3)\n",
    "            else:\n",
    "                peopledata.append(-1)"
   ]
  },
  {
   "cell_type": "code",
   "execution_count": 4,
   "metadata": {},
   "outputs": [],
   "source": [
    "import matplotlib.pyplot as plt\n",
    "import numpy as np\n",
    "unique_elements, counts = np.unique(peoples, return_counts=True)\n"
   ]
  },
  {
   "cell_type": "code",
   "execution_count": 29,
   "metadata": {},
   "outputs": [
    {
     "data": {
      "text/plain": [
       "array([ 362643, 1313215,  267694,   93143,   42638,   15559,    9239,\n",
       "          2767,     246,       9,       1], dtype=int64)"
      ]
     },
     "execution_count": 29,
     "metadata": {},
     "output_type": "execute_result"
    }
   ],
   "source": [
    "counts"
   ]
  },
  {
   "cell_type": "code",
   "execution_count": 5,
   "metadata": {},
   "outputs": [
    {
     "data": {
      "text/plain": [
       "[<matplotlib.lines.Line2D at 0x260ddc72450>]"
      ]
     },
     "execution_count": 5,
     "metadata": {},
     "output_type": "execute_result"
    },
    {
     "data": {
      "image/png": "[encoded data removed]",
      "text/plain": [
       "<Figure size 640x480 with 1 Axes>"
      ]
     },
     "metadata": {},
     "output_type": "display_data"
    }
   ],
   "source": [
    "plt.plot(unique_elements, counts)"
   ]
  }
 ],
 "metadata": {
  "kernelspec": {
   "display_name": "face",
   "language": "python",
   "name": "python3"
  },
  "language_info": {
   "codemirror_mode": {
    "name": "ipython",
    "version": 3
   },
   "file_extension": ".py",
   "mimetype": "text/x-python",
   "name": "python",
   "nbconvert_exporter": "python",
   "pygments_lexer": "ipython3",
   "version": "3.11.5"
  }
 },
 "nbformat": 4,
 "nbformat_minor": 2
}
